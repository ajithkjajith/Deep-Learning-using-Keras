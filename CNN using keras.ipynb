{
 "cells": [
  {
   "cell_type": "markdown",
   "metadata": {},
   "source": [
    "Let's start by importing the keras libraries and the packages that we would need to build a neural network."
   ]
  },
  {
   "cell_type": "code",
   "execution_count": 9,
   "metadata": {},
   "outputs": [],
   "source": [
    "import keras\n",
    "from keras.models import Sequential\n",
    "from keras.layers import Dense\n",
    "from keras.utils import to_categorical"
   ]
  },
  {
   "cell_type": "markdown",
   "metadata": {},
   "source": [
    "When working with convolutional neural networks in particular, we will need additional packages."
   ]
  },
  {
   "cell_type": "code",
   "execution_count": 10,
   "metadata": {},
   "outputs": [],
   "source": [
    "from keras.layers.convolutional import Conv2D # to add convolutional layers\n",
    "from keras.layers.convolutional import MaxPooling2D # to add pooling layers\n",
    "from keras.layers import Flatten # to flatten data for fully connected layers"
   ]
  },
  {
   "cell_type": "markdown",
   "metadata": {},
   "source": [
    "<a id='item42'></a>"
   ]
  },
  {
   "cell_type": "markdown",
   "metadata": {},
   "source": [
    "## Convolutional Layer with One set of convolutional and pooling layers"
   ]
  },
  {
   "cell_type": "code",
   "execution_count": 11,
   "metadata": {},
   "outputs": [],
   "source": [
    "# import data\n",
    "from keras.datasets import mnist\n",
    "\n",
    "# load data\n",
    "(X_train, y_train), (X_test, y_test) = mnist.load_data()\n",
    "\n",
    "# reshape to be [samples][pixels][width][height]\n",
    "X_train = X_train.reshape(X_train.shape[0], 28, 28, 1).astype('float32')\n",
    "X_test = X_test.reshape(X_test.shape[0], 28, 28, 1).astype('float32')"
   ]
  },
  {
   "cell_type": "markdown",
   "metadata": {},
   "source": [
    "Let's normalize the pixel values to be between 0 and 1"
   ]
  },
  {
   "cell_type": "code",
   "execution_count": 12,
   "metadata": {},
   "outputs": [],
   "source": [
    "X_train = X_train / 255 # normalize training data\n",
    "X_test = X_test / 255 # normalize test data"
   ]
  },
  {
   "cell_type": "markdown",
   "metadata": {},
   "source": [
    "Next, let's convert the target variable into binary categories"
   ]
  },
  {
   "cell_type": "code",
   "execution_count": 13,
   "metadata": {},
   "outputs": [],
   "source": [
    "y_train = to_categorical(y_train)\n",
    "y_test = to_categorical(y_test)\n",
    "\n",
    "num_classes = y_test.shape[1] # number of categories"
   ]
  },
  {
   "cell_type": "markdown",
   "metadata": {},
   "source": [
    "Next, let's define a function that creates our model. Let's start with one set of convolutional and pooling layers."
   ]
  },
  {
   "cell_type": "code",
   "execution_count": 14,
   "metadata": {},
   "outputs": [],
   "source": [
    "def convolutional_model():\n",
    "    \n",
    "    # create model\n",
    "    model = Sequential()\n",
    "    model.add(Conv2D(16, (5, 5), strides=(1, 1), activation='relu', input_shape=(28, 28, 1)))\n",
    "    model.add(MaxPooling2D(pool_size=(2, 2), strides=(2, 2)))\n",
    "    \n",
    "    model.add(Flatten())\n",
    "    model.add(Dense(100, activation='relu'))\n",
    "    model.add(Dense(num_classes, activation='softmax'))\n",
    "    \n",
    "    # compile model\n",
    "    model.compile(optimizer='adam', loss='categorical_crossentropy',  metrics=['accuracy'])\n",
    "    return model"
   ]
  },
  {
   "cell_type": "markdown",
   "metadata": {},
   "source": [
    "Finally, let's call the function to create the model, and then let's train it and evaluate it."
   ]
  },
  {
   "cell_type": "code",
   "execution_count": 15,
   "metadata": {},
   "outputs": [
    {
     "name": "stdout",
     "output_type": "stream",
     "text": [
      "Train on 60000 samples, validate on 10000 samples\n",
      "Epoch 1/10\n",
      " - 250s - loss: 0.2918 - acc: 0.9183 - val_loss: 0.1061 - val_acc: 0.9683\n",
      "Epoch 2/10\n",
      " - 247s - loss: 0.0895 - acc: 0.9745 - val_loss: 0.0635 - val_acc: 0.9811\n",
      "Epoch 3/10\n",
      " - 247s - loss: 0.0597 - acc: 0.9826 - val_loss: 0.0559 - val_acc: 0.9813\n",
      "Epoch 4/10\n",
      " - 164s - loss: 0.0476 - acc: 0.9859 - val_loss: 0.0481 - val_acc: 0.9842\n",
      "Epoch 5/10\n",
      " - 156s - loss: 0.0378 - acc: 0.9888 - val_loss: 0.0429 - val_acc: 0.9859\n",
      "Epoch 6/10\n",
      " - 158s - loss: 0.0303 - acc: 0.9910 - val_loss: 0.0433 - val_acc: 0.9856\n",
      "Epoch 7/10\n",
      " - 156s - loss: 0.0271 - acc: 0.9919 - val_loss: 0.0416 - val_acc: 0.9870\n",
      "Epoch 8/10\n",
      " - 155s - loss: 0.0229 - acc: 0.9928 - val_loss: 0.0391 - val_acc: 0.9873\n",
      "Epoch 9/10\n",
      " - 153s - loss: 0.0194 - acc: 0.9939 - val_loss: 0.0392 - val_acc: 0.9879\n",
      "Epoch 10/10\n",
      " - 156s - loss: 0.0149 - acc: 0.9956 - val_loss: 0.0391 - val_acc: 0.9880\n",
      "Accuracy: 0.988 \n",
      " Error: 1.2000000000000028\n"
     ]
    }
   ],
   "source": [
    "# build the model\n",
    "model = convolutional_model()\n",
    "\n",
    "# fit the model\n",
    "model.fit(X_train, y_train, validation_data=(X_test, y_test), epochs=10, batch_size=200, verbose=2)\n",
    "\n",
    "# evaluate the model\n",
    "scores = model.evaluate(X_test, y_test, verbose=0)\n",
    "print(\"Accuracy: {} \\n Error: {}\".format(scores[1], 100-scores[1]*100))"
   ]
  },
  {
   "cell_type": "markdown",
   "metadata": {},
   "source": [
    "<a id='item43'></a>"
   ]
  },
  {
   "cell_type": "markdown",
   "metadata": {},
   "source": [
    "## Convolutional Layer with two sets of convolutional and pooling layers"
   ]
  },
  {
   "cell_type": "markdown",
   "metadata": {},
   "source": [
    "Let's redefine our convolutional model so that it has two convolutional and pooling layers instead of just one layer of each."
   ]
  },
  {
   "cell_type": "code",
   "execution_count": 16,
   "metadata": {},
   "outputs": [],
   "source": [
    "def convolutional_model():\n",
    "    \n",
    "    # create model\n",
    "    model = Sequential()\n",
    "    model.add(Conv2D(16, (5, 5), activation='relu', input_shape=(28, 28, 1)))\n",
    "    model.add(MaxPooling2D(pool_size=(2, 2), strides=(2, 2)))\n",
    "    \n",
    "    model.add(Conv2D(8, (2, 2), activation='relu'))\n",
    "    model.add(MaxPooling2D(pool_size=(2, 2), strides=(2, 2)))\n",
    "    \n",
    "    model.add(Flatten())\n",
    "    model.add(Dense(100, activation='relu'))\n",
    "    model.add(Dense(num_classes, activation='softmax'))\n",
    "    \n",
    "    # Compile model\n",
    "    model.compile(optimizer='adam', loss='categorical_crossentropy',  metrics=['accuracy'])\n",
    "    return model"
   ]
  },
  {
   "cell_type": "markdown",
   "metadata": {},
   "source": [
    "Now, let's call the function to create our new convolutional neural network, and then let's train it and evaluate it."
   ]
  },
  {
   "cell_type": "code",
   "execution_count": 17,
   "metadata": {},
   "outputs": [
    {
     "name": "stdout",
     "output_type": "stream",
     "text": [
      "Train on 60000 samples, validate on 10000 samples\n",
      "Epoch 1/10\n",
      " - 169s - loss: 0.4433 - acc: 0.8740 - val_loss: 0.1201 - val_acc: 0.9638\n",
      "Epoch 2/10\n",
      " - 167s - loss: 0.1085 - acc: 0.9671 - val_loss: 0.0766 - val_acc: 0.9766\n",
      "Epoch 3/10\n",
      " - 167s - loss: 0.0757 - acc: 0.9774 - val_loss: 0.0602 - val_acc: 0.9803\n",
      "Epoch 4/10\n",
      " - 164s - loss: 0.0621 - acc: 0.9816 - val_loss: 0.0493 - val_acc: 0.9838\n",
      "Epoch 5/10\n",
      " - 166s - loss: 0.0535 - acc: 0.9840 - val_loss: 0.0521 - val_acc: 0.9830\n",
      "Epoch 6/10\n",
      " - 164s - loss: 0.0466 - acc: 0.9858 - val_loss: 0.0425 - val_acc: 0.9866\n",
      "Epoch 7/10\n",
      " - 165s - loss: 0.0414 - acc: 0.9874 - val_loss: 0.0362 - val_acc: 0.9886\n",
      "Epoch 8/10\n",
      " - 165s - loss: 0.0369 - acc: 0.9884 - val_loss: 0.0368 - val_acc: 0.9876\n",
      "Epoch 9/10\n",
      " - 165s - loss: 0.0331 - acc: 0.9901 - val_loss: 0.0348 - val_acc: 0.9885\n",
      "Epoch 10/10\n",
      " - 165s - loss: 0.0305 - acc: 0.9904 - val_loss: 0.0328 - val_acc: 0.9896\n",
      "Accuracy: 0.9896 \n",
      " Error: 1.039999999999992\n"
     ]
    }
   ],
   "source": [
    "# build the model\n",
    "model = convolutional_model()\n",
    "\n",
    "# fit the model\n",
    "model.fit(X_train, y_train, validation_data=(X_test, y_test), epochs=10, batch_size=200, verbose=2)\n",
    "\n",
    "# evaluate the model\n",
    "scores = model.evaluate(X_test, y_test, verbose=0)\n",
    "print(\"Accuracy: {} \\n Error: {}\".format(scores[1], 100-scores[1]*100))"
   ]
  }
 ],
 "metadata": {
  "kernelspec": {
   "display_name": "Python",
   "language": "python",
   "name": "conda-env-python-py"
  },
  "language_info": {
   "codemirror_mode": {
    "name": "ipython",
    "version": 3
   },
   "file_extension": ".py",
   "mimetype": "text/x-python",
   "name": "python",
   "nbconvert_exporter": "python",
   "pygments_lexer": "ipython3",
   "version": "3.6.10"
  }
 },
 "nbformat": 4,
 "nbformat_minor": 4
}
